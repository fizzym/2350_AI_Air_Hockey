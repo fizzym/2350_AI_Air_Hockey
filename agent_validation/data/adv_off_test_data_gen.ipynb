{
 "cells": [
  {
   "cell_type": "markdown",
   "metadata": {},
   "source": [
    "File to generate data for use in the advanced offensive test. Generates a set number of initial positions. Currently both mallet positions are constant and the puck's initial position is randomly selected over the agent's side of the table.\n",
    "\n",
    "Save's data as a pickle of the form [ic_1, ic_2, ...], where each ic is a length 6 list of the initial positions of the pucks and mallets."
   ]
  },
  {
   "cell_type": "code",
   "execution_count": 2,
   "metadata": {},
   "outputs": [],
   "source": [
    "import numpy as np\n",
    "import pickle\n",
    "from numpy.random import uniform as unif"
   ]
  },
  {
   "cell_type": "code",
   "execution_count": 10,
   "metadata": {},
   "outputs": [],
   "source": [
    "num_episodes = 100\n",
    "data_list = []\n",
    "agent_ic = [-0.8, 0]\n",
    "opp_ic = [0.9,0.4]\n",
    "puck_bounds = [(-0.75,0.45),(-0.05,-0.45)]\n",
    "\n",
    "for i in range(num_episodes):\n",
    "    puck_ic = [unif(puck_bounds[0][0], puck_bounds[1][0]), unif(puck_bounds[0][1], puck_bounds[1][1])]\n",
    "    ics = np.concatenate((puck_ic, agent_ic, opp_ic))\n",
    "    data_list.append(ics)\n"
   ]
  },
  {
   "cell_type": "code",
   "execution_count": 13,
   "metadata": {},
   "outputs": [],
   "source": [
    "import datetime\n",
    "\n",
    "# Formatting file name and path\n",
    "cur_datetime = datetime.datetime.now()\n",
    "formatted_datetime = cur_datetime.strftime(\"%m-%d-%H-%M\")\n",
    "\n",
    "data_file = \"adv_off_test_data_\" + str(num_episodes) +\"_eps_\" + formatted_datetime + \".pkl\"\n",
    "\n",
    "with open(data_file, 'wb') as file:\n",
    "    pickle.dump(data_list, file)"
   ]
  },
  {
   "cell_type": "code",
   "execution_count": null,
   "metadata": {},
   "outputs": [],
   "source": []
  }
 ],
 "metadata": {
  "kernelspec": {
   "display_name": "Python 3",
   "language": "python",
   "name": "python3"
  },
  "language_info": {
   "codemirror_mode": {
    "name": "ipython",
    "version": 3
   },
   "file_extension": ".py",
   "mimetype": "text/x-python",
   "name": "python",
   "nbconvert_exporter": "python",
   "pygments_lexer": "ipython3",
   "version": "3.8.0"
  }
 },
 "nbformat": 4,
 "nbformat_minor": 2
}
